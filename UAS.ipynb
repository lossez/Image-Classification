{
  "cells": [
    {
      "cell_type": "code",
      "execution_count": null,
      "metadata": {
        "colab": {
          "base_uri": "https://localhost:8080/"
        },
        "id": "n8dHZGKr-Q-B",
        "outputId": "f2bf0298-4eb5-43c5-f0ad-279bf5ada134"
      },
      "outputs": [
        {
          "output_type": "stream",
          "name": "stdout",
          "text": [
            "Mounted at /content/drive\n"
          ]
        }
      ],
      "source": [
        "from google.colab import drive\n",
        "drive.mount('/content/drive')"
      ]
    },
    {
      "cell_type": "markdown",
      "metadata": {
        "id": "P-caFP1ml5o_"
      },
      "source": [
        "# Cek Dataset"
      ]
    },
    {
      "cell_type": "code",
      "execution_count": null,
      "metadata": {
        "colab": {
          "base_uri": "https://localhost:8080/"
        },
        "id": "3DkLZ7obIcFU",
        "outputId": "845af65c-98f4-42a4-8434-8ea6edb2f36a"
      },
      "outputs": [
        {
          "output_type": "stream",
          "name": "stdout",
          "text": [
            "jumlah dataset Training :  390\n",
            "jumlah dataset validasi :  130\n",
            "\n",
            "\n",
            "\n",
            "jumlah train kelas normal :  60\n",
            "jumlah train kelas diabetes-retinopati :  330\n",
            "jumlah validasi kelas normal :  20\n",
            "jumlah validasi kelas  diabetes-retinopati:  110\n"
          ]
        }
      ],
      "source": [
        "# check quantity of images in training and testing using lambda\n",
        "import os\n",
        "\n",
        "train_dir = \"/content/drive/MyDrive/Colab Notebooks/Dataset/train\"\n",
        "val_dir = \"/content/drive/MyDrive/Colab Notebooks/Dataset/val\"\n",
        "\n",
        "normal_train_path = train_dir + '/normal'\n",
        "diabetes_retinopati_train_path = train_dir + '/diabetes-retinopati'\n",
        "\n",
        "normal_val_path = val_dir + '/normal'\n",
        "diabetes_retinopati_val_path = val_dir + '/diabetes-retinopati'\n",
        "\n",
        "normal_len_train = len(os.listdir(normal_train_path))\n",
        "diabetes_retinopati_len_train = len(os.listdir(diabetes_retinopati_train_path))\n",
        "normal_len_val = len(os.listdir(normal_val_path))\n",
        "diabetes_retinopati_len_val = len(os.listdir(diabetes_retinopati_val_path))\n",
        "\n",
        "print(\"jumlah dataset Training : \", normal_len_train + diabetes_retinopati_len_train)\n",
        "print(\"jumlah dataset validasi : \", normal_len_val + diabetes_retinopati_len_val)\n",
        "print(\"\\n\\n\")\n",
        "print(\"jumlah train kelas normal : \", normal_len_train)\n",
        "print(\"jumlah train kelas diabetes-retinopati : \", diabetes_retinopati_len_train)\n",
        "print(\"jumlah validasi kelas normal : \", normal_len_val)\n",
        "print(\"jumlah validasi kelas  diabetes-retinopati: \", diabetes_retinopati_len_val)\n"
      ]
    },
    {
      "cell_type": "code",
      "execution_count": null,
      "metadata": {
        "id": "u97UMhYkBMi3"
      },
      "outputs": [],
      "source": [
        "import tensorflow as tf\n",
        "from tensorflow.keras.optimizers import Adam\n",
        "from tensorflow.keras.preprocessing.image import ImageDataGenerator\n"
      ]
    },
    {
      "cell_type": "markdown",
      "metadata": {
        "id": "QuHqW5xznZxO"
      },
      "source": [
        "# Augmentasi Dataset"
      ]
    },
    {
      "cell_type": "code",
      "execution_count": null,
      "metadata": {
        "colab": {
          "base_uri": "https://localhost:8080/"
        },
        "id": "jJQoHsEjKy2_",
        "outputId": "c380eead-40b5-44ca-e6ad-58e1f3d3c085"
      },
      "outputs": [
        {
          "output_type": "stream",
          "name": "stdout",
          "text": [
            "Found 390 images belonging to 2 classes.\n",
            "Found 130 images belonging to 2 classes.\n"
          ]
        }
      ],
      "source": [
        "train_datagen = ImageDataGenerator(\n",
        "      rescale=1./255,\n",
        "      rotation_range=40,\n",
        "      width_shift_range=0.2,\n",
        "      height_shift_range=0.2,\n",
        "      shear_range=0.2,\n",
        "      zoom_range=0.2,\n",
        "      horizontal_flip=True,\n",
        "      fill_mode='nearest')\n",
        "\n",
        "test_datagen = ImageDataGenerator(rescale=1./255)\n",
        "\n",
        "train_generator = train_datagen.flow_from_directory(\n",
        "        train_dir,\n",
        "        target_size=(150, 150),\n",
        "        batch_size=20,\n",
        "        class_mode='binary')\n",
        "\n",
        "validation_generator = test_datagen.flow_from_directory(\n",
        "        val_dir,\n",
        "        target_size=(150, 150),\n",
        "        batch_size=20,\n",
        "        class_mode='binary')\n"
      ]
    },
    {
      "cell_type": "code",
      "execution_count": null,
      "metadata": {
        "id": "80NeSqL--8ye"
      },
      "outputs": [],
      "source": [
        "from tensorflow.keras.models import Sequential\n",
        "from tensorflow.keras.layers import InputLayer, Dense, Conv2D, AveragePooling2D, Flatten, GlobalAveragePooling2D, Dropout"
      ]
    },
    {
      "cell_type": "markdown",
      "metadata": {
        "id": "GqxnMjltneio"
      },
      "source": [
        "# Arsitektur Model and Fit Model"
      ]
    },
    {
      "cell_type": "code",
      "execution_count": null,
      "metadata": {
        "id": "zFMeWDta_ObE"
      },
      "outputs": [],
      "source": [
        "# Feature Extraction Layer\n",
        "model = Sequential()\n",
        "\n",
        "model.add(InputLayer(input_shape=[150,150,3]))\n",
        "model.add(Conv2D(filters=64, kernel_size=3, strides=1, padding='same', activation='relu'))\n",
        "model.add(AveragePooling2D(pool_size=2, padding='same'))\n",
        "model.add(Conv2D(filters=128, kernel_size=3, strides=1, padding='same', activation='relu'))\n",
        "model.add(AveragePooling2D(pool_size=2, padding='same'))\n",
        "model.add(Conv2D(filters=256, kernel_size=3, strides=1, padding='same', activation='relu'))\n",
        "model.add(AveragePooling2D(pool_size=2, padding='same'))\n",
        "model.add(Conv2D(filters=256, kernel_size=3, strides=1, padding='same', activation='relu'))\n",
        "model.add(AveragePooling2D(pool_size=2, padding='same'))\n",
        "model.add(GlobalAveragePooling2D())\n",
        "model.add(Flatten())\n",
        "model.add(Dropout(0.0001))"
      ]
    },
    {
      "cell_type": "code",
      "execution_count": null,
      "metadata": {
        "id": "4CO401rqGc4_"
      },
      "outputs": [],
      "source": [
        "# Fully Connected Layer\n",
        "model.add(Dense(1024, activation='relu'))\n",
        "model.add(Dropout(0.0001))\n",
        "model.add(Dense(1024, activation='relu'))\n",
        "model.add(Dropout(0.0001))\n",
        "model.add(Dense(1, activation='sigmoid'))"
      ]
    },
    {
      "cell_type": "code",
      "execution_count": null,
      "metadata": {
        "colab": {
          "base_uri": "https://localhost:8080/"
        },
        "id": "ifCsxghi_S7A",
        "outputId": "a491beb5-6834-47b9-fdf7-5339dde070f3"
      },
      "outputs": [
        {
          "output_type": "stream",
          "name": "stdout",
          "text": [
            "Model: \"sequential\"\n",
            "_________________________________________________________________\n",
            " Layer (type)                Output Shape              Param #   \n",
            "=================================================================\n",
            " conv2d (Conv2D)             (None, 150, 150, 64)      1792      \n",
            "                                                                 \n",
            " average_pooling2d (AverageP  (None, 75, 75, 64)       0         \n",
            " ooling2D)                                                       \n",
            "                                                                 \n",
            " conv2d_1 (Conv2D)           (None, 75, 75, 128)       73856     \n",
            "                                                                 \n",
            " average_pooling2d_1 (Averag  (None, 38, 38, 128)      0         \n",
            " ePooling2D)                                                     \n",
            "                                                                 \n",
            " conv2d_2 (Conv2D)           (None, 38, 38, 256)       295168    \n",
            "                                                                 \n",
            " average_pooling2d_2 (Averag  (None, 19, 19, 256)      0         \n",
            " ePooling2D)                                                     \n",
            "                                                                 \n",
            " conv2d_3 (Conv2D)           (None, 19, 19, 256)       590080    \n",
            "                                                                 \n",
            " average_pooling2d_3 (Averag  (None, 10, 10, 256)      0         \n",
            " ePooling2D)                                                     \n",
            "                                                                 \n",
            " global_average_pooling2d (G  (None, 256)              0         \n",
            " lobalAveragePooling2D)                                          \n",
            "                                                                 \n",
            " flatten (Flatten)           (None, 256)               0         \n",
            "                                                                 \n",
            " dropout (Dropout)           (None, 256)               0         \n",
            "                                                                 \n",
            " dense (Dense)               (None, 1024)              263168    \n",
            "                                                                 \n",
            " dropout_1 (Dropout)         (None, 1024)              0         \n",
            "                                                                 \n",
            " dense_1 (Dense)             (None, 1024)              1049600   \n",
            "                                                                 \n",
            " dropout_2 (Dropout)         (None, 1024)              0         \n",
            "                                                                 \n",
            " dense_2 (Dense)             (None, 1)                 1025      \n",
            "                                                                 \n",
            "=================================================================\n",
            "Total params: 2,274,689\n",
            "Trainable params: 2,274,689\n",
            "Non-trainable params: 0\n",
            "_________________________________________________________________\n",
            "None\n"
          ]
        }
      ],
      "source": [
        "# Print model summary\n",
        "print(model.summary())"
      ]
    },
    {
      "cell_type": "code",
      "execution_count": null,
      "metadata": {
        "colab": {
          "base_uri": "https://localhost:8080/"
        },
        "id": "6YDh3a81_Xei",
        "outputId": "27c37bc4-8cff-4f68-c8f0-21320585f152"
      },
      "outputs": [
        {
          "output_type": "stream",
          "name": "stderr",
          "text": [
            "/usr/local/lib/python3.7/dist-packages/keras/optimizer_v2/adam.py:105: UserWarning: The `lr` argument is deprecated, use `learning_rate` instead.\n",
            "  super(Adam, self).__init__(name, **kwargs)\n"
          ]
        }
      ],
      "source": [
        "# Compile model\n",
        "from tensorflow.keras.optimizers import Adam\n",
        "\n",
        "model.compile(optimizer=Adam(lr=0.0001), \n",
        "              loss='binary_crossentropy', \n",
        "              metrics=['acc'])"
      ]
    },
    {
      "cell_type": "code",
      "execution_count": null,
      "metadata": {
        "id": "fPrJMkhiBzTN"
      },
      "outputs": [],
      "source": [
        "from keras.callbacks import ModelCheckpoint, EarlyStopping"
      ]
    },
    {
      "cell_type": "code",
      "execution_count": null,
      "metadata": {
        "id": "kSHUBNgitCT-"
      },
      "outputs": [],
      "source": [
        "# setting Callback so we can save the best model in format h5 and i save it in my drive\n",
        "callbacks = EarlyStopping(monitor='val_loss', patience=30, verbose=1, mode='auto')        \n",
        "directory_to_save_best_model_file = '/content/drive/MyDrive/Colab Notebooks/UAS/model_drop_batch_weight_from_callback.h5'\n",
        "best_model = ModelCheckpoint(directory_to_save_best_model_file, monitor='val_acc', verbose = 1, save_best_only = True)"
      ]
    },
    {
      "cell_type": "code",
      "execution_count": null,
      "metadata": {
        "colab": {
          "base_uri": "https://localhost:8080/"
        },
        "id": "MMSB2oAG_ZzZ",
        "outputId": "5f501fbe-0ff1-4416-9092-e59694fb97af"
      },
      "outputs": [
        {
          "output_type": "stream",
          "name": "stdout",
          "text": [
            "Epoch 1/60\n",
            "20/20 [==============================] - ETA: 0s - loss: 0.6166 - acc: 0.8000\n",
            "Epoch 00001: val_acc improved from -inf to 0.84615, saving model to /content/drive/MyDrive/Colab Notebooks/UAS/model_drop_batch_weight_from_callback.h5\n",
            "20/20 [==============================] - 134s 6s/step - loss: 0.6166 - acc: 0.8000 - val_loss: 0.4780 - val_acc: 0.8462\n",
            "Epoch 2/60\n",
            "20/20 [==============================] - ETA: 0s - loss: 0.4746 - acc: 0.8462\n",
            "Epoch 00002: val_acc did not improve from 0.84615\n",
            "20/20 [==============================] - 23s 1s/step - loss: 0.4746 - acc: 0.8462 - val_loss: 0.4729 - val_acc: 0.8462\n",
            "Epoch 3/60\n",
            "20/20 [==============================] - ETA: 0s - loss: 0.4723 - acc: 0.8462\n",
            "Epoch 00003: val_acc did not improve from 0.84615\n",
            "20/20 [==============================] - 22s 1s/step - loss: 0.4723 - acc: 0.8462 - val_loss: 0.4630 - val_acc: 0.8462\n",
            "Epoch 4/60\n",
            "20/20 [==============================] - ETA: 0s - loss: 0.4577 - acc: 0.8462\n",
            "Epoch 00004: val_acc did not improve from 0.84615\n",
            "20/20 [==============================] - 22s 1s/step - loss: 0.4577 - acc: 0.8462 - val_loss: 0.4502 - val_acc: 0.8462\n",
            "Epoch 5/60\n",
            "20/20 [==============================] - ETA: 0s - loss: 0.4460 - acc: 0.8462\n",
            "Epoch 00005: val_acc did not improve from 0.84615\n",
            "20/20 [==============================] - 22s 1s/step - loss: 0.4460 - acc: 0.8462 - val_loss: 0.4298 - val_acc: 0.8462\n",
            "Epoch 6/60\n",
            "20/20 [==============================] - ETA: 0s - loss: 0.4238 - acc: 0.8462\n",
            "Epoch 00006: val_acc did not improve from 0.84615\n",
            "20/20 [==============================] - 22s 1s/step - loss: 0.4238 - acc: 0.8462 - val_loss: 0.4064 - val_acc: 0.8462\n",
            "Epoch 7/60\n",
            "20/20 [==============================] - ETA: 0s - loss: 0.4022 - acc: 0.8462\n",
            "Epoch 00007: val_acc did not improve from 0.84615\n",
            "20/20 [==============================] - 22s 1s/step - loss: 0.4022 - acc: 0.8462 - val_loss: 0.3925 - val_acc: 0.8462\n",
            "Epoch 8/60\n",
            "20/20 [==============================] - ETA: 0s - loss: 0.4383 - acc: 0.8462\n",
            "Epoch 00008: val_acc did not improve from 0.84615\n",
            "20/20 [==============================] - 22s 1s/step - loss: 0.4383 - acc: 0.8462 - val_loss: 0.3837 - val_acc: 0.8462\n",
            "Epoch 9/60\n",
            "20/20 [==============================] - ETA: 0s - loss: 0.3945 - acc: 0.8462\n",
            "Epoch 00009: val_acc did not improve from 0.84615\n",
            "20/20 [==============================] - 22s 1s/step - loss: 0.3945 - acc: 0.8462 - val_loss: 0.4196 - val_acc: 0.8462\n",
            "Epoch 10/60\n",
            "20/20 [==============================] - ETA: 0s - loss: 0.4010 - acc: 0.8462\n",
            "Epoch 00010: val_acc did not improve from 0.84615\n",
            "20/20 [==============================] - 22s 1s/step - loss: 0.4010 - acc: 0.8462 - val_loss: 0.3815 - val_acc: 0.8462\n",
            "Epoch 11/60\n",
            "20/20 [==============================] - ETA: 0s - loss: 0.3876 - acc: 0.8462\n",
            "Epoch 00011: val_acc did not improve from 0.84615\n",
            "20/20 [==============================] - 22s 1s/step - loss: 0.3876 - acc: 0.8462 - val_loss: 0.3882 - val_acc: 0.8462\n",
            "Epoch 12/60\n",
            "20/20 [==============================] - ETA: 0s - loss: 0.3893 - acc: 0.8462\n",
            "Epoch 00012: val_acc did not improve from 0.84615\n",
            "20/20 [==============================] - 22s 1s/step - loss: 0.3893 - acc: 0.8462 - val_loss: 0.3918 - val_acc: 0.8462\n",
            "Epoch 13/60\n",
            "20/20 [==============================] - ETA: 0s - loss: 0.3931 - acc: 0.8462\n",
            "Epoch 00013: val_acc did not improve from 0.84615\n",
            "20/20 [==============================] - 22s 1s/step - loss: 0.3931 - acc: 0.8462 - val_loss: 0.3694 - val_acc: 0.8462\n",
            "Epoch 14/60\n",
            "20/20 [==============================] - ETA: 0s - loss: 0.3626 - acc: 0.8462\n",
            "Epoch 00014: val_acc did not improve from 0.84615\n",
            "20/20 [==============================] - 22s 1s/step - loss: 0.3626 - acc: 0.8462 - val_loss: 0.3557 - val_acc: 0.8462\n",
            "Epoch 15/60\n",
            "20/20 [==============================] - ETA: 0s - loss: 0.3541 - acc: 0.8462\n",
            "Epoch 00015: val_acc did not improve from 0.84615\n",
            "20/20 [==============================] - 22s 1s/step - loss: 0.3541 - acc: 0.8462 - val_loss: 0.3450 - val_acc: 0.8462\n",
            "Epoch 16/60\n",
            "20/20 [==============================] - ETA: 0s - loss: 0.3717 - acc: 0.8308\n",
            "Epoch 00016: val_acc did not improve from 0.84615\n",
            "20/20 [==============================] - 22s 1s/step - loss: 0.3717 - acc: 0.8308 - val_loss: 0.5830 - val_acc: 0.7462\n",
            "Epoch 17/60\n",
            "20/20 [==============================] - ETA: 0s - loss: 0.3940 - acc: 0.8333\n",
            "Epoch 00017: val_acc did not improve from 0.84615\n",
            "20/20 [==============================] - 22s 1s/step - loss: 0.3940 - acc: 0.8333 - val_loss: 0.3454 - val_acc: 0.8462\n",
            "Epoch 18/60\n",
            "20/20 [==============================] - ETA: 0s - loss: 0.3735 - acc: 0.8462\n",
            "Epoch 00018: val_acc did not improve from 0.84615\n",
            "20/20 [==============================] - 22s 1s/step - loss: 0.3735 - acc: 0.8462 - val_loss: 0.3542 - val_acc: 0.8462\n",
            "Epoch 19/60\n",
            "20/20 [==============================] - ETA: 0s - loss: 0.3567 - acc: 0.8462\n",
            "Epoch 00019: val_acc did not improve from 0.84615\n",
            "20/20 [==============================] - 22s 1s/step - loss: 0.3567 - acc: 0.8462 - val_loss: 0.3383 - val_acc: 0.8462\n",
            "Epoch 20/60\n",
            "20/20 [==============================] - ETA: 0s - loss: 0.3538 - acc: 0.8462\n",
            "Epoch 00020: val_acc did not improve from 0.84615\n",
            "20/20 [==============================] - 22s 1s/step - loss: 0.3538 - acc: 0.8462 - val_loss: 0.3321 - val_acc: 0.8462\n",
            "Epoch 21/60\n",
            "20/20 [==============================] - ETA: 0s - loss: 0.3405 - acc: 0.8462\n",
            "Epoch 00021: val_acc did not improve from 0.84615\n",
            "20/20 [==============================] - 22s 1s/step - loss: 0.3405 - acc: 0.8462 - val_loss: 0.3745 - val_acc: 0.8462\n",
            "Epoch 22/60\n",
            "20/20 [==============================] - ETA: 0s - loss: 0.3498 - acc: 0.8462\n",
            "Epoch 00022: val_acc did not improve from 0.84615\n",
            "20/20 [==============================] - 22s 1s/step - loss: 0.3498 - acc: 0.8462 - val_loss: 0.3217 - val_acc: 0.8462\n",
            "Epoch 23/60\n",
            "20/20 [==============================] - ETA: 0s - loss: 0.3322 - acc: 0.8487\n",
            "Epoch 00023: val_acc did not improve from 0.84615\n",
            "20/20 [==============================] - 22s 1s/step - loss: 0.3322 - acc: 0.8487 - val_loss: 0.3279 - val_acc: 0.8462\n",
            "Epoch 24/60\n",
            "20/20 [==============================] - ETA: 0s - loss: 0.3628 - acc: 0.8410\n",
            "Epoch 00024: val_acc did not improve from 0.84615\n",
            "20/20 [==============================] - 22s 1s/step - loss: 0.3628 - acc: 0.8410 - val_loss: 0.3294 - val_acc: 0.8462\n",
            "Epoch 25/60\n",
            "20/20 [==============================] - ETA: 0s - loss: 0.3534 - acc: 0.8513\n",
            "Epoch 00025: val_acc improved from 0.84615 to 0.85385, saving model to /content/drive/MyDrive/Colab Notebooks/UAS/model_drop_batch_weight_from_callback.h5\n",
            "20/20 [==============================] - 23s 1s/step - loss: 0.3534 - acc: 0.8513 - val_loss: 0.3298 - val_acc: 0.8538\n",
            "Epoch 26/60\n",
            "20/20 [==============================] - ETA: 0s - loss: 0.3373 - acc: 0.8462\n",
            "Epoch 00026: val_acc improved from 0.85385 to 0.86154, saving model to /content/drive/MyDrive/Colab Notebooks/UAS/model_drop_batch_weight_from_callback.h5\n",
            "20/20 [==============================] - 23s 1s/step - loss: 0.3373 - acc: 0.8462 - val_loss: 0.3287 - val_acc: 0.8615\n",
            "Epoch 27/60\n",
            "20/20 [==============================] - ETA: 0s - loss: 0.3599 - acc: 0.8436\n",
            "Epoch 00027: val_acc did not improve from 0.86154\n",
            "20/20 [==============================] - 22s 1s/step - loss: 0.3599 - acc: 0.8436 - val_loss: 0.3205 - val_acc: 0.8615\n",
            "Epoch 28/60\n",
            "20/20 [==============================] - ETA: 0s - loss: 0.3494 - acc: 0.8538\n",
            "Epoch 00028: val_acc did not improve from 0.86154\n",
            "20/20 [==============================] - 22s 1s/step - loss: 0.3494 - acc: 0.8538 - val_loss: 0.3667 - val_acc: 0.8615\n",
            "Epoch 29/60\n",
            "20/20 [==============================] - ETA: 0s - loss: 0.3452 - acc: 0.8513\n",
            "Epoch 00029: val_acc did not improve from 0.86154\n",
            "20/20 [==============================] - 22s 1s/step - loss: 0.3452 - acc: 0.8513 - val_loss: 0.3561 - val_acc: 0.8538\n",
            "Epoch 30/60\n",
            "20/20 [==============================] - ETA: 0s - loss: 0.3436 - acc: 0.8462\n",
            "Epoch 00030: val_acc improved from 0.86154 to 0.86923, saving model to /content/drive/MyDrive/Colab Notebooks/UAS/model_drop_batch_weight_from_callback.h5\n",
            "20/20 [==============================] - 23s 1s/step - loss: 0.3436 - acc: 0.8462 - val_loss: 0.3124 - val_acc: 0.8692\n",
            "Epoch 31/60\n",
            "20/20 [==============================] - ETA: 0s - loss: 0.3325 - acc: 0.8590\n",
            "Epoch 00031: val_acc improved from 0.86923 to 0.87692, saving model to /content/drive/MyDrive/Colab Notebooks/UAS/model_drop_batch_weight_from_callback.h5\n",
            "20/20 [==============================] - 23s 1s/step - loss: 0.3325 - acc: 0.8590 - val_loss: 0.3143 - val_acc: 0.8769\n",
            "Epoch 32/60\n",
            "20/20 [==============================] - ETA: 0s - loss: 0.3255 - acc: 0.8615\n",
            "Epoch 00032: val_acc did not improve from 0.87692\n",
            "20/20 [==============================] - 22s 1s/step - loss: 0.3255 - acc: 0.8615 - val_loss: 0.3172 - val_acc: 0.8692\n",
            "Epoch 33/60\n",
            "20/20 [==============================] - ETA: 0s - loss: 0.3295 - acc: 0.8385\n",
            "Epoch 00033: val_acc did not improve from 0.87692\n",
            "20/20 [==============================] - 22s 1s/step - loss: 0.3295 - acc: 0.8385 - val_loss: 0.3111 - val_acc: 0.8615\n",
            "Epoch 34/60\n",
            "20/20 [==============================] - ETA: 0s - loss: 0.3444 - acc: 0.8333\n",
            "Epoch 00034: val_acc did not improve from 0.87692\n",
            "20/20 [==============================] - 22s 1s/step - loss: 0.3444 - acc: 0.8333 - val_loss: 0.3130 - val_acc: 0.8692\n",
            "Epoch 35/60\n",
            "20/20 [==============================] - ETA: 0s - loss: 0.3446 - acc: 0.8231\n",
            "Epoch 00035: val_acc did not improve from 0.87692\n",
            "20/20 [==============================] - 22s 1s/step - loss: 0.3446 - acc: 0.8231 - val_loss: 0.3128 - val_acc: 0.8538\n",
            "Epoch 36/60\n",
            "20/20 [==============================] - ETA: 0s - loss: 0.3498 - acc: 0.8667\n",
            "Epoch 00036: val_acc did not improve from 0.87692\n",
            "20/20 [==============================] - 22s 1s/step - loss: 0.3498 - acc: 0.8667 - val_loss: 0.3190 - val_acc: 0.8462\n",
            "Epoch 37/60\n",
            "20/20 [==============================] - ETA: 0s - loss: 0.3224 - acc: 0.8462\n",
            "Epoch 00037: val_acc did not improve from 0.87692\n",
            "20/20 [==============================] - 22s 1s/step - loss: 0.3224 - acc: 0.8462 - val_loss: 0.3091 - val_acc: 0.8462\n",
            "Epoch 38/60\n",
            "20/20 [==============================] - ETA: 0s - loss: 0.3565 - acc: 0.8462\n",
            "Epoch 00038: val_acc did not improve from 0.87692\n",
            "20/20 [==============================] - 22s 1s/step - loss: 0.3565 - acc: 0.8462 - val_loss: 0.3113 - val_acc: 0.8462\n",
            "Epoch 39/60\n",
            "20/20 [==============================] - ETA: 0s - loss: 0.3563 - acc: 0.8359\n",
            "Epoch 00039: val_acc did not improve from 0.87692\n",
            "20/20 [==============================] - 22s 1s/step - loss: 0.3563 - acc: 0.8359 - val_loss: 0.3159 - val_acc: 0.8462\n",
            "Epoch 40/60\n",
            "20/20 [==============================] - ETA: 0s - loss: 0.3282 - acc: 0.8641\n",
            "Epoch 00040: val_acc did not improve from 0.87692\n",
            "20/20 [==============================] - 22s 1s/step - loss: 0.3282 - acc: 0.8641 - val_loss: 0.3163 - val_acc: 0.8615\n",
            "Epoch 41/60\n",
            "20/20 [==============================] - ETA: 0s - loss: 0.3106 - acc: 0.8462\n",
            "Epoch 00041: val_acc did not improve from 0.87692\n",
            "20/20 [==============================] - 22s 1s/step - loss: 0.3106 - acc: 0.8462 - val_loss: 0.3056 - val_acc: 0.8615\n",
            "Epoch 42/60\n",
            "20/20 [==============================] - ETA: 0s - loss: 0.3348 - acc: 0.8538\n",
            "Epoch 00042: val_acc did not improve from 0.87692\n",
            "20/20 [==============================] - 22s 1s/step - loss: 0.3348 - acc: 0.8538 - val_loss: 0.3058 - val_acc: 0.8462\n",
            "Epoch 43/60\n",
            "20/20 [==============================] - ETA: 0s - loss: 0.3215 - acc: 0.8513\n",
            "Epoch 00043: val_acc did not improve from 0.87692\n",
            "20/20 [==============================] - 22s 1s/step - loss: 0.3215 - acc: 0.8513 - val_loss: 0.3039 - val_acc: 0.8692\n",
            "Epoch 44/60\n",
            "20/20 [==============================] - ETA: 0s - loss: 0.3228 - acc: 0.8487\n",
            "Epoch 00044: val_acc did not improve from 0.87692\n",
            "20/20 [==============================] - 22s 1s/step - loss: 0.3228 - acc: 0.8487 - val_loss: 0.3093 - val_acc: 0.8462\n",
            "Epoch 45/60\n",
            "20/20 [==============================] - ETA: 0s - loss: 0.3231 - acc: 0.8333\n",
            "Epoch 00045: val_acc did not improve from 0.87692\n",
            "20/20 [==============================] - 22s 1s/step - loss: 0.3231 - acc: 0.8333 - val_loss: 0.3032 - val_acc: 0.8615\n",
            "Epoch 46/60\n",
            "20/20 [==============================] - ETA: 0s - loss: 0.3323 - acc: 0.8487\n",
            "Epoch 00046: val_acc did not improve from 0.87692\n",
            "20/20 [==============================] - 22s 1s/step - loss: 0.3323 - acc: 0.8487 - val_loss: 0.3174 - val_acc: 0.8692\n",
            "Epoch 47/60\n",
            "20/20 [==============================] - ETA: 0s - loss: 0.3198 - acc: 0.8590\n",
            "Epoch 00047: val_acc did not improve from 0.87692\n",
            "20/20 [==============================] - 22s 1s/step - loss: 0.3198 - acc: 0.8590 - val_loss: 0.3009 - val_acc: 0.8615\n",
            "Epoch 48/60\n",
            "20/20 [==============================] - ETA: 0s - loss: 0.3140 - acc: 0.8436\n",
            "Epoch 00048: val_acc did not improve from 0.87692\n",
            "20/20 [==============================] - 22s 1s/step - loss: 0.3140 - acc: 0.8436 - val_loss: 0.3058 - val_acc: 0.8692\n",
            "Epoch 49/60\n",
            "20/20 [==============================] - ETA: 0s - loss: 0.3183 - acc: 0.8641\n",
            "Epoch 00049: val_acc did not improve from 0.87692\n",
            "20/20 [==============================] - 22s 1s/step - loss: 0.3183 - acc: 0.8641 - val_loss: 0.2983 - val_acc: 0.8615\n",
            "Epoch 50/60\n",
            "20/20 [==============================] - ETA: 0s - loss: 0.3445 - acc: 0.8385\n",
            "Epoch 00050: val_acc did not improve from 0.87692\n",
            "20/20 [==============================] - 22s 1s/step - loss: 0.3445 - acc: 0.8385 - val_loss: 0.3722 - val_acc: 0.8462\n",
            "Epoch 51/60\n",
            "20/20 [==============================] - ETA: 0s - loss: 0.3143 - acc: 0.8385\n",
            "Epoch 00051: val_acc did not improve from 0.87692\n",
            "20/20 [==============================] - 22s 1s/step - loss: 0.3143 - acc: 0.8385 - val_loss: 0.3031 - val_acc: 0.8692\n",
            "Epoch 52/60\n",
            "20/20 [==============================] - ETA: 0s - loss: 0.3241 - acc: 0.8564\n",
            "Epoch 00052: val_acc did not improve from 0.87692\n",
            "20/20 [==============================] - 22s 1s/step - loss: 0.3241 - acc: 0.8564 - val_loss: 0.3027 - val_acc: 0.8462\n",
            "Epoch 53/60\n",
            "20/20 [==============================] - ETA: 0s - loss: 0.3174 - acc: 0.8462\n",
            "Epoch 00053: val_acc did not improve from 0.87692\n",
            "20/20 [==============================] - 22s 1s/step - loss: 0.3174 - acc: 0.8462 - val_loss: 0.2986 - val_acc: 0.8462\n",
            "Epoch 54/60\n",
            "20/20 [==============================] - ETA: 0s - loss: 0.3108 - acc: 0.8590\n",
            "Epoch 00054: val_acc did not improve from 0.87692\n",
            "20/20 [==============================] - 22s 1s/step - loss: 0.3108 - acc: 0.8590 - val_loss: 0.2991 - val_acc: 0.8692\n",
            "Epoch 55/60\n",
            "20/20 [==============================] - ETA: 0s - loss: 0.3091 - acc: 0.8615\n",
            "Epoch 00055: val_acc did not improve from 0.87692\n",
            "20/20 [==============================] - 22s 1s/step - loss: 0.3091 - acc: 0.8615 - val_loss: 0.2943 - val_acc: 0.8538\n",
            "Epoch 56/60\n",
            "20/20 [==============================] - ETA: 0s - loss: 0.3340 - acc: 0.8359\n",
            "Epoch 00056: val_acc did not improve from 0.87692\n",
            "20/20 [==============================] - 22s 1s/step - loss: 0.3340 - acc: 0.8359 - val_loss: 0.2986 - val_acc: 0.8462\n",
            "Epoch 57/60\n",
            "20/20 [==============================] - ETA: 0s - loss: 0.3065 - acc: 0.8590\n",
            "Epoch 00057: val_acc did not improve from 0.87692\n",
            "20/20 [==============================] - 22s 1s/step - loss: 0.3065 - acc: 0.8590 - val_loss: 0.3040 - val_acc: 0.8692\n",
            "Epoch 58/60\n",
            "20/20 [==============================] - ETA: 0s - loss: 0.3118 - acc: 0.8615\n",
            "Epoch 00058: val_acc did not improve from 0.87692\n",
            "20/20 [==============================] - 22s 1s/step - loss: 0.3118 - acc: 0.8615 - val_loss: 0.2914 - val_acc: 0.8615\n",
            "Epoch 59/60\n",
            "20/20 [==============================] - ETA: 0s - loss: 0.3145 - acc: 0.8590\n",
            "Epoch 00059: val_acc did not improve from 0.87692\n",
            "20/20 [==============================] - 22s 1s/step - loss: 0.3145 - acc: 0.8590 - val_loss: 0.2957 - val_acc: 0.8538\n",
            "Epoch 60/60\n",
            "20/20 [==============================] - ETA: 0s - loss: 0.2948 - acc: 0.8590\n",
            "Epoch 00060: val_acc did not improve from 0.87692\n",
            "20/20 [==============================] - 22s 1s/step - loss: 0.2948 - acc: 0.8590 - val_loss: 0.2901 - val_acc: 0.8615\n"
          ]
        }
      ],
      "source": [
        "history = model.fit(train_generator,\n",
        "                          epochs=60, # images = batch_size * steps\n",
        "                          verbose=1,\n",
        "                          validation_data=validation_generator,\n",
        "                          callbacks = [callbacks, best_model])"
      ]
    },
    {
      "cell_type": "markdown",
      "metadata": {
        "id": "UyfvKPZ6nkFe"
      },
      "source": [
        "# Model Evaluation"
      ]
    },
    {
      "cell_type": "code",
      "execution_count": null,
      "metadata": {
        "colab": {
          "base_uri": "https://localhost:8080/",
          "height": 545
        },
        "id": "78cNHz07_bbJ",
        "outputId": "851c656e-1c1a-49a5-a512-2471e2c32159"
      },
      "outputs": [
        {
          "output_type": "display_data",
          "data": {
            "image/png": "[encoded data removed]",
            "text/plain": [
              "<Figure size 432x288 with 1 Axes>"
            ]
          },
          "metadata": {
            "needs_background": "light"
          }
        },
        {
          "output_type": "display_data",
          "data": {
            "image/png": "[encoded data removed]",
            "text/plain": [
              "<Figure size 432x288 with 1 Axes>"
            ]
          },
          "metadata": {
            "needs_background": "light"
          }
        }
      ],
      "source": [
        "import matplotlib.pyplot as plt\n",
        "acc = history.history['acc']\n",
        "val_acc = history.history['val_acc']\n",
        "loss = history.history['loss']\n",
        "val_loss = history.history['val_loss']\n",
        "\n",
        "epochs = range(len(acc))\n",
        "\n",
        "plt.plot(epochs, acc, 'bo', label='Training accuracy')\n",
        "plt.plot(epochs, val_acc, 'b', label='Validation accuracy')\n",
        "plt.title('Training and validation accuracy')\n",
        "\n",
        "plt.figure()\n",
        "\n",
        "plt.plot(epochs, loss, 'bo', label='Training Loss')\n",
        "plt.plot(epochs, val_loss, 'b', label='Validation Loss')\n",
        "plt.title('Training and validation loss')\n",
        "plt.legend()\n",
        "\n",
        "plt.show()"
      ]
    },
    {
      "cell_type": "code",
      "execution_count": null,
      "metadata": {
        "id": "MOs1hiYmLGbz"
      },
      "outputs": [],
      "source": [
        "# import some of library that we need to look the confusion matrix, recall, f1_score, and accuracy score to look how much your model is well\n",
        "import numpy as np \n",
        "from keras.preprocessing.image import ImageDataGenerator\n",
        "import matplotlib.pyplot as plt\n",
        "from sklearn.metrics import f1_score, recall_score, accuracy_score\n",
        "from sklearn.metrics import precision_score, confusion_matrix, classification_report\n",
        "from sklearn import metrics\n",
        "\n",
        "import seaborn as sns\n",
        "sns.set(style='whitegrid')"
      ]
    },
    {
      "cell_type": "code",
      "execution_count": null,
      "metadata": {
        "id": "wvzWnFCDqA8E"
      },
      "outputs": [],
      "source": [
        "# loading model to evaluate more depth\n",
        "from keras.models import load_model\n",
        "model_path = '/content/drive/MyDrive/Colab Notebooks/UAS/model_drop_batch_weight_from_callback.h5'\n",
        "model = load_model(model_path)"
      ]
    },
    {
      "cell_type": "code",
      "execution_count": null,
      "metadata": {
        "colab": {
          "base_uri": "https://localhost:8080/",
          "height": 1000
        },
        "id": "ElJB02IcqO8f",
        "outputId": "17319ab0-f507-4f4a-f837-af1ca60c1d8e"
      },
      "outputs": [
        {
          "output_type": "stream",
          "name": "stdout",
          "text": [
            "Found 130 images belonging to 2 classes.\n"
          ]
        },
        {
          "output_type": "stream",
          "name": "stderr",
          "text": [
            "/usr/local/lib/python3.7/dist-packages/ipykernel_launcher.py:26: UserWarning: `Model.predict_generator` is deprecated and will be removed in a future version. Please use `Model.predict`, which supports generators.\n"
          ]
        },
        {
          "output_type": "stream",
          "name": "stdout",
          "text": [
            "Accuracy  : 0.8769230769230769\n",
            "Precision : 0.864438839848676\n",
            "f1Score : 0.8537324744221295\n",
            "[[108   2]\n",
            " [ 14   6]]\n"
          ]
        },
        {
          "output_type": "display_data",
          "data": {
            "image/png": "[encoded data removed]",
            "text/plain": [
              "<Figure size 1440x1440 with 2 Axes>"
            ]
          },
          "metadata": {}
        }
      ],
      "source": [
        "def my_metrics(y_true, y_pred):\n",
        "    accuracy=accuracy_score(y_true, y_pred)\n",
        "    precision=precision_score(y_true, y_pred,average='weighted')\n",
        "    f1Score=f1_score(y_true, y_pred, average='weighted') \n",
        "    print(\"Accuracy  : {}\".format(accuracy))\n",
        "    print(\"Precision : {}\".format(precision))\n",
        "    print(\"f1Score : {}\".format(f1Score))\n",
        "    cm=confusion_matrix(y_true, y_pred)\n",
        "    print(cm)\n",
        "    return accuracy, precision, f1Score\n",
        "\n",
        "height=150; width=150\n",
        "batch_size=20\n",
        "\n",
        "test_datagen = ImageDataGenerator(rescale=1./255)\n",
        "\n",
        "TESTING_DIR = '/content/drive/MyDrive/Colab Notebooks/Dataset/val'\n",
        "\n",
        "test_generator = test_datagen.flow_from_directory(TESTING_DIR,\n",
        "                                                  batch_size=batch_size,                                                             \n",
        "                                                  target_size=(height, width),\n",
        "                                                  class_mode= None,\n",
        "                                                  shuffle=False\n",
        "                                                  )\n",
        "\n",
        "predictions = model.predict_generator(generator=test_generator)\n",
        "yPredictions = predictions > 0.5\n",
        "true_classes = test_generator.classes\n",
        "class_names = test_generator.class_indices\n",
        "Cmatrix_test = confusion_matrix(true_classes, yPredictions)\n",
        "\n",
        "testAcc,testPrec, testFScore = my_metrics(true_classes, yPredictions)\n",
        "\n",
        "plt.figure(figsize=(20,20))\n",
        "ax= plt.subplot()\n",
        "data = np.asarray(Cmatrix_test).reshape(2,2)\n",
        "sns.heatmap(data,annot=True, fmt='',ax=ax, cmap=plt.cm.Reds)\n",
        "ax.set_xlabel('Predicted labels')\n",
        "ax.set_ylabel('True labels') \n",
        "ax.set_title('Confusion Matrix')\n",
        "ax.xaxis.set_ticklabels(class_names)   \n",
        "ax.yaxis.set_ticklabels(class_names)\n",
        "plt.title('Confusion Matrix Test',fontsize=14)\n",
        "plt.show()\n"
      ]
    },
    {
      "cell_type": "code",
      "execution_count": null,
      "metadata": {
        "colab": {
          "base_uri": "https://localhost:8080/"
        },
        "id": "m1Km8AC4sOqX",
        "outputId": "46262a06-a605-4fb5-e601-ee0aed7e45ff"
      },
      "outputs": [
        {
          "output_type": "stream",
          "name": "stdout",
          "text": [
            "                     precision    recall  f1-score   support\n",
            "\n",
            "diabetes-retinopati       0.89      0.98      0.93       110\n",
            "             normal       0.75      0.30      0.43        20\n",
            "\n",
            "           accuracy                           0.88       130\n",
            "          macro avg       0.82      0.64      0.68       130\n",
            "       weighted avg       0.86      0.88      0.85       130\n",
            "\n"
          ]
        }
      ],
      "source": [
        "from sklearn.metrics import classification_report\n",
        "print(classification_report(true_classes, yPredictions, target_names=class_names))"
      ]
    },
    {
      "cell_type": "code",
      "execution_count": null,
      "metadata": {
        "colab": {
          "base_uri": "https://localhost:8080/"
        },
        "id": "Pjjy5-xCsU7F",
        "outputId": "bd4d9195-05d9-4f5d-9020-218a3a9fb58f"
      },
      "outputs": [
        {
          "output_type": "stream",
          "name": "stdout",
          "text": [
            "Mounted at /content/gdrive\n"
          ]
        }
      ],
      "source": [
        "from google.colab import drive\n",
        "drive.mount('/content/gdrive')"
      ]
    },
    {
      "cell_type": "code",
      "execution_count": null,
      "metadata": {
        "colab": {
          "base_uri": "https://localhost:8080/",
          "height": 109,
          "resources": {
            "http://localhost:8080/nbextensions/google.colab/files.js": {
              "data": "Ly8gQ29weXJpZ2h0IDIwMTcgR29vZ2xlIExMQwovLwovLyBMaWNlbnNlZCB1bmRlciB0aGUgQXBhY2hlIExpY2Vuc2UsIFZlcnNpb24gMi4wICh0aGUgIkxpY2Vuc2UiKTsKLy8geW91IG1heSBub3QgdXNlIHRoaXMgZmlsZSBleGNlcHQgaW4gY29tcGxpYW5jZSB3aXRoIHRoZSBMaWNlbnNlLgovLyBZb3UgbWF5IG9idGFpbiBhIGNvcHkgb2YgdGhlIExpY2Vuc2UgYXQKLy8KLy8gICAgICBodHRwOi8vd3d3LmFwYWNoZS5vcmcvbGljZW5zZXMvTElDRU5TRS0yLjAKLy8KLy8gVW5sZXNzIHJlcXVpcmVkIGJ5IGFwcGxpY2FibGUgbGF3IG9yIGFncmVlZCB0byBpbiB3cml0aW5nLCBzb2Z0d2FyZQovLyBkaXN0cmlidXRlZCB1bmRlciB0aGUgTGljZW5zZSBpcyBkaXN0cmlidXRlZCBvbiBhbiAiQVMgSVMiIEJBU0lTLAovLyBXSVRIT1VUIFdBUlJBTlRJRVMgT1IgQ09ORElUSU9OUyBPRiBBTlkgS0lORCwgZWl0aGVyIGV4cHJlc3Mgb3IgaW1wbGllZC4KLy8gU2VlIHRoZSBMaWNlbnNlIGZvciB0aGUgc3BlY2lmaWMgbGFuZ3VhZ2UgZ292ZXJuaW5nIHBlcm1pc3Npb25zIGFuZAovLyBsaW1pdGF0aW9ucyB1bmRlciB0aGUgTGljZW5zZS4KCi8qKgogKiBAZmlsZW92ZXJ2aWV3IEhlbHBlcnMgZm9yIGdvb2dsZS5jb2xhYiBQeXRob24gbW9kdWxlLgogKi8KKGZ1bmN0aW9uKHNjb3BlKSB7CmZ1bmN0aW9uIHNwYW4odGV4dCwgc3R5bGVBdHRyaWJ1dGVzID0ge30pIHsKICBjb25zdCBlbGVtZW50ID0gZG9jdW1lbnQuY3JlYXRlRWxlbWVudCgnc3BhbicpOwogIGVsZW1lbnQudGV4dENvbnRlbnQgPSB0ZXh0OwogIGZvciAoY29uc3Qga2V5IG9mIE9iamVjdC5rZXlzKHN0eWxlQXR0cmlidXRlcykpIHsKICAgIGVsZW1lbnQuc3R5bGVba2V5XSA9IHN0eWxlQXR0cmlidXRlc1trZXldOwogIH0KICByZXR1cm4gZWxlbWVudDsKfQoKLy8gTWF4IG51bWJlciBvZiBieXRlcyB3aGljaCB3aWxsIGJlIHVwbG9hZGVkIGF0IGEgdGltZS4KY29uc3QgTUFYX1BBWUxPQURfU0laRSA9IDEwMCAqIDEwMjQ7CgpmdW5jdGlvbiBfdXBsb2FkRmlsZXMoaW5wdXRJZCwgb3V0cHV0SWQpIHsKICBjb25zdCBzdGVwcyA9IHVwbG9hZEZpbGVzU3RlcChpbnB1dElkLCBvdXRwdXRJZCk7CiAgY29uc3Qgb3V0cHV0RWxlbWVudCA9IGRvY3VtZW50LmdldEVsZW1lbnRCeUlkKG91dHB1dElkKTsKICAvLyBDYWNoZSBzdGVwcyBvbiB0aGUgb3V0cHV0RWxlbWVudCB0byBtYWtlIGl0IGF2YWlsYWJsZSBmb3IgdGhlIG5leHQgY2FsbAogIC8vIHRvIHVwbG9hZEZpbGVzQ29udGludWUgZnJvbSBQeXRob24uCiAgb3V0cHV0RWxlbWVudC5zdGVwcyA9IHN0ZXBzOwoKICByZXR1cm4gX3VwbG9hZEZpbGVzQ29udGludWUob3V0cHV0SWQpOwp9CgovLyBUaGlzIGlzIHJvdWdobHkgYW4gYXN5bmMgZ2VuZXJhdG9yIChub3Qgc3VwcG9ydGVkIGluIHRoZSBicm93c2VyIHlldCksCi8vIHdoZXJlIHRoZXJlIGFyZSBtdWx0aXBsZSBhc3luY2hyb25vdXMgc3RlcHMgYW5kIHRoZSBQeXRob24gc2lkZSBpcyBnb2luZwovLyB0byBwb2xsIGZvciBjb21wbGV0aW9uIG9mIGVhY2ggc3RlcC4KLy8gVGhpcyB1c2VzIGEgUHJvbWlzZSB0byBibG9jayB0aGUgcHl0aG9uIHNpZGUgb24gY29tcGxldGlvbiBvZiBlYWNoIHN0ZXAsCi8vIHRoZW4gcGFzc2VzIHRoZSByZXN1bHQgb2YgdGhlIHByZXZpb3VzIHN0ZXAgYXMgdGhlIGlucHV0IHRvIHRoZSBuZXh0IHN0ZXAuCmZ1bmN0aW9uIF91cGxvYWRGaWxlc0NvbnRpbnVlKG91dHB1dElkKSB7CiAgY29uc3Qgb3V0cHV0RWxlbWVudCA9IGRvY3VtZW50LmdldEVsZW1lbnRCeUlkKG91dHB1dElkKTsKICBjb25zdCBzdGVwcyA9IG91dHB1dEVsZW1lbnQuc3RlcHM7CgogIGNvbnN0IG5leHQgPSBzdGVwcy5uZXh0KG91dHB1dEVsZW1lbnQubGFzdFByb21pc2VWYWx1ZSk7CiAgcmV0dXJuIFByb21pc2UucmVzb2x2ZShuZXh0LnZhbHVlLnByb21pc2UpLnRoZW4oKHZhbHVlKSA9PiB7CiAgICAvLyBDYWNoZSB0aGUgbGFzdCBwcm9taXNlIHZhbHVlIHRvIG1ha2UgaXQgYXZhaWxhYmxlIHRvIHRoZSBuZXh0CiAgICAvLyBzdGVwIG9mIHRoZSBnZW5lcmF0b3IuCiAgICBvdXRwdXRFbGVtZW50Lmxhc3RQcm9taXNlVmFsdWUgPSB2YWx1ZTsKICAgIHJldHVybiBuZXh0LnZhbHVlLnJlc3BvbnNlOwogIH0pOwp9CgovKioKICogR2VuZXJhdG9yIGZ1bmN0aW9uIHdoaWNoIGlzIGNhbGxlZCBiZXR3ZWVuIGVhY2ggYXN5bmMgc3RlcCBvZiB0aGUgdXBsb2FkCiAqIHByb2Nlc3MuCiAqIEBwYXJhbSB7c3RyaW5nfSBpbnB1dElkIEVsZW1lbnQgSUQgb2YgdGhlIGlucHV0IGZpbGUgcGlja2VyIGVsZW1lbnQuCiAqIEBwYXJhbSB7c3RyaW5nfSBvdXRwdXRJZCBFbGVtZW50IElEIG9mIHRoZSBvdXRwdXQgZGlzcGxheS4KICogQHJldHVybiB7IUl0ZXJhYmxlPCFPYmplY3Q+fSBJdGVyYWJsZSBvZiBuZXh0IHN0ZXBzLgogKi8KZnVuY3Rpb24qIHVwbG9hZEZpbGVzU3RlcChpbnB1dElkLCBvdXRwdXRJZCkgewogIGNvbnN0IGlucHV0RWxlbWVudCA9IGRvY3VtZW50LmdldEVsZW1lbnRCeUlkKGlucHV0SWQpOwogIGlucHV0RWxlbWVudC5kaXNhYmxlZCA9IGZhbHNlOwoKICBjb25zdCBvdXRwdXRFbGVtZW50ID0gZG9jdW1lbnQuZ2V0RWxlbWVudEJ5SWQob3V0cHV0SWQpOwogIG91dHB1dEVsZW1lbnQuaW5uZXJIVE1MID0gJyc7CgogIGNvbnN0IHBpY2tlZFByb21pc2UgPSBuZXcgUHJvbWlzZSgocmVzb2x2ZSkgPT4gewogICAgaW5wdXRFbGVtZW50LmFkZEV2ZW50TGlzdGVuZXIoJ2NoYW5nZScsIChlKSA9PiB7CiAgICAgIHJlc29sdmUoZS50YXJnZXQuZmlsZXMpOwogICAgfSk7CiAgfSk7CgogIGNvbnN0IGNhbmNlbCA9IGRvY3VtZW50LmNyZWF0ZUVsZW1lbnQoJ2J1dHRvbicpOwogIGlucHV0RWxlbWVudC5wYXJlbnRFbGVtZW50LmFwcGVuZENoaWxkKGNhbmNlbCk7CiAgY2FuY2VsLnRleHRDb250ZW50ID0gJ0NhbmNlbCB1cGxvYWQnOwogIGNvbnN0IGNhbmNlbFByb21pc2UgPSBuZXcgUHJvbWlzZSgocmVzb2x2ZSkgPT4gewogICAgY2FuY2VsLm9uY2xpY2sgPSAoKSA9PiB7CiAgICAgIHJlc29sdmUobnVsbCk7CiAgICB9OwogIH0pOwoKICAvLyBXYWl0IGZvciB0aGUgdXNlciB0byBwaWNrIHRoZSBmaWxlcy4KICBjb25zdCBmaWxlcyA9IHlpZWxkIHsKICAgIHByb21pc2U6IFByb21pc2UucmFjZShbcGlja2VkUHJvbWlzZSwgY2FuY2VsUHJvbWlzZV0pLAogICAgcmVzcG9uc2U6IHsKICAgICAgYWN0aW9uOiAnc3RhcnRpbmcnLAogICAgfQogIH07CgogIGNhbmNlbC5yZW1vdmUoKTsKCiAgLy8gRGlzYWJsZSB0aGUgaW5wdXQgZWxlbWVudCBzaW5jZSBmdXJ0aGVyIHBpY2tzIGFyZSBub3QgYWxsb3dlZC4KICBpbnB1dEVsZW1lbnQuZGlzYWJsZWQgPSB0cnVlOwoKICBpZiAoIWZpbGVzKSB7CiAgICByZXR1cm4gewogICAgICByZXNwb25zZTogewogICAgICAgIGFjdGlvbjogJ2NvbXBsZXRlJywKICAgICAgfQogICAgfTsKICB9CgogIGZvciAoY29uc3QgZmlsZSBvZiBmaWxlcykgewogICAgY29uc3QgbGkgPSBkb2N1bWVudC5jcmVhdGVFbGVtZW50KCdsaScpOwogICAgbGkuYXBwZW5kKHNwYW4oZmlsZS5uYW1lLCB7Zm9udFdlaWdodDogJ2JvbGQnfSkpOwogICAgbGkuYXBwZW5kKHNwYW4oCiAgICAgICAgYCgke2ZpbGUudHlwZSB8fCAnbi9hJ30pIC0gJHtmaWxlLnNpemV9IGJ5dGVzLCBgICsKICAgICAgICBgbGFzdCBtb2RpZmllZDogJHsKICAgICAgICAgICAgZmlsZS5sYXN0TW9kaWZpZWREYXRlID8gZmlsZS5sYXN0TW9kaWZpZWREYXRlLnRvTG9jYWxlRGF0ZVN0cmluZygpIDoKICAgICAgICAgICAgICAgICAgICAgICAgICAgICAgICAgICAgJ24vYSd9IC0gYCkpOwogICAgY29uc3QgcGVyY2VudCA9IHNwYW4oJzAlIGRvbmUnKTsKICAgIGxpLmFwcGVuZENoaWxkKHBlcmNlbnQpOwoKICAgIG91dHB1dEVsZW1lbnQuYXBwZW5kQ2hpbGQobGkpOwoKICAgIGNvbnN0IGZpbGVEYXRhUHJvbWlzZSA9IG5ldyBQcm9taXNlKChyZXNvbHZlKSA9PiB7CiAgICAgIGNvbnN0IHJlYWRlciA9IG5ldyBGaWxlUmVhZGVyKCk7CiAgICAgIHJlYWRlci5vbmxvYWQgPSAoZSkgPT4gewogICAgICAgIHJlc29sdmUoZS50YXJnZXQucmVzdWx0KTsKICAgICAgfTsKICAgICAgcmVhZGVyLnJlYWRBc0FycmF5QnVmZmVyKGZpbGUpOwogICAgfSk7CiAgICAvLyBXYWl0IGZvciB0aGUgZGF0YSB0byBiZSByZWFkeS4KICAgIGxldCBmaWxlRGF0YSA9IHlpZWxkIHsKICAgICAgcHJvbWlzZTogZmlsZURhdGFQcm9taXNlLAogICAgICByZXNwb25zZTogewogICAgICAgIGFjdGlvbjogJ2NvbnRpbnVlJywKICAgICAgfQogICAgfTsKCiAgICAvLyBVc2UgYSBjaHVua2VkIHNlbmRpbmcgdG8gYXZvaWQgbWVzc2FnZSBzaXplIGxpbWl0cy4gU2VlIGIvNjIxMTU2NjAuCiAgICBsZXQgcG9zaXRpb24gPSAwOwogICAgZG8gewogICAgICBjb25zdCBsZW5ndGggPSBNYXRoLm1pbihmaWxlRGF0YS5ieXRlTGVuZ3RoIC0gcG9zaXRpb24sIE1BWF9QQVlMT0FEX1NJWkUpOwogICAgICBjb25zdCBjaHVuayA9IG5ldyBVaW50OEFycmF5KGZpbGVEYXRhLCBwb3NpdGlvbiwgbGVuZ3RoKTsKICAgICAgcG9zaXRpb24gKz0gbGVuZ3RoOwoKICAgICAgY29uc3QgYmFzZTY0ID0gYnRvYShTdHJpbmcuZnJvbUNoYXJDb2RlLmFwcGx5KG51bGwsIGNodW5rKSk7CiAgICAgIHlpZWxkIHsKICAgICAgICByZXNwb25zZTogewogICAgICAgICAgYWN0aW9uOiAnYXBwZW5kJywKICAgICAgICAgIGZpbGU6IGZpbGUubmFtZSwKICAgICAgICAgIGRhdGE6IGJhc2U2NCwKICAgICAgICB9LAogICAgICB9OwoKICAgICAgbGV0IHBlcmNlbnREb25lID0gZmlsZURhdGEuYnl0ZUxlbmd0aCA9PT0gMCA/CiAgICAgICAgICAxMDAgOgogICAgICAgICAgTWF0aC5yb3VuZCgocG9zaXRpb24gLyBmaWxlRGF0YS5ieXRlTGVuZ3RoKSAqIDEwMCk7CiAgICAgIHBlcmNlbnQudGV4dENvbnRlbnQgPSBgJHtwZXJjZW50RG9uZX0lIGRvbmVgOwoKICAgIH0gd2hpbGUgKHBvc2l0aW9uIDwgZmlsZURhdGEuYnl0ZUxlbmd0aCk7CiAgfQoKICAvLyBBbGwgZG9uZS4KICB5aWVsZCB7CiAgICByZXNwb25zZTogewogICAgICBhY3Rpb246ICdjb21wbGV0ZScsCiAgICB9CiAgfTsKfQoKc2NvcGUuZ29vZ2xlID0gc2NvcGUuZ29vZ2xlIHx8IHt9OwpzY29wZS5nb29nbGUuY29sYWIgPSBzY29wZS5nb29nbGUuY29sYWIgfHwge307CnNjb3BlLmdvb2dsZS5jb2xhYi5fZmlsZXMgPSB7CiAgX3VwbG9hZEZpbGVzLAogIF91cGxvYWRGaWxlc0NvbnRpbnVlLAp9Owp9KShzZWxmKTsK",
              "headers": [
                [
                  "content-type",
                  "application/javascript"
                ]
              ],
              "ok": true,
              "status": 200,
              "status_text": ""
            }
          }
        },
        "id": "rGn4ZBgOd2HV",
        "outputId": "c0b1fd1b-e765-4f71-a55e-32231d2a8a93"
      },
      "outputs": [
        {
          "output_type": "display_data",
          "data": {
            "text/html": [
              "\n",
              "     <input type=\"file\" id=\"files-008553fd-370d-4700-bb7f-356bfb624042\" name=\"files[]\" multiple disabled\n",
              "        style=\"border:none\" />\n",
              "     <output id=\"result-008553fd-370d-4700-bb7f-356bfb624042\">\n",
              "      Upload widget is only available when the cell has been executed in the\n",
              "      current browser session. Please rerun this cell to enable.\n",
              "      </output>\n",
              "      <script src=\"/nbextensions/google.colab/files.js\"></script> "
            ],
            "text/plain": [
              "<IPython.core.display.HTML object>"
            ]
          },
          "metadata": {}
        },
        {
          "output_type": "stream",
          "name": "stdout",
          "text": [
            "Saving image004.png to image004.png\n",
            "[0.99999905]\n",
            "image004.png is a normal\n"
          ]
        }
      ],
      "source": [
        "# loading model to evaluate more depth\n",
        "import numpy as np\n",
        "from keras.models import load_model\n",
        "model_path = '/content/gdrive/MyDrive/Colab Notebooks/UAS/model_drop_batch_weight_from_callback.h5'\n",
        "model = load_model(model_path)\n",
        "\n",
        "from google.colab import files\n",
        "from keras.preprocessing import image\n",
        "\n",
        "uploaded=files.upload()\n",
        "\n",
        "for fn in uploaded.keys():\n",
        " \n",
        "  # predicting images\n",
        "  path= fn\n",
        "  img=image.load_img(path, target_size=(150, 150))\n",
        "  \n",
        "  x=image.img_to_array(img)\n",
        "  x=np.expand_dims(x, axis=0)\n",
        "  images = np.vstack([x])\n",
        "  \n",
        "  classes = model.predict(images, batch_size=10)\n",
        "  \n",
        "  print(classes[0])\n",
        "  \n",
        "  if classes[0]>0:\n",
        "    print(fn + \" is a normal\")\n",
        "    \n",
        "  else:\n",
        "    print(fn + \" is a diabetes-retinopati\")\n",
        " \n"
      ]
    }
  ],
  "metadata": {
    "accelerator": "GPU",
    "colab": {
      "collapsed_sections": [],
      "name": "UAS.ipynb",
      "provenance": []
    },
    "kernelspec": {
      "display_name": "Python 3",
      "name": "python3"
    },
    "language_info": {
      "name": "python"
    }
  },
  "nbformat": 4,
  "nbformat_minor": 0
}